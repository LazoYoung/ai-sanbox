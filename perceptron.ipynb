{
 "nbformat": 4,
 "nbformat_minor": 0,
 "metadata": {
  "colab": {
   "provenance": [],
   "authorship_tag": "ABX9TyMEkvX3mmCOUjDY/9Ctn9Rq",
   "include_colab_link": true
  },
  "kernelspec": {
   "name": "python3",
   "display_name": "Python 3 (ipykernel)",
   "language": "python"
  },
  "language_info": {
   "name": "python"
  }
 },
 "cells": [
  {
   "cell_type": "markdown",
   "metadata": {
    "id": "view-in-github",
    "colab_type": "text"
   },
   "source": [
    "<a href=\"https://colab.research.google.com/github/LazoYoung/ai-sanbox/blob/main/perceptron.ipynb\" target=\"_parent\"><img src=\"https://colab.research.google.com/assets/colab-badge.svg\" alt=\"Open In Colab\"/></a>"
   ]
  },
  {
   "metadata": {},
   "cell_type": "markdown",
   "source": [
    "## 파라미터 초기화\n",
    "퍼셉트론에 필요한 파라미터 변수를 무작위로 초기화하자\n",
    "- 입력값: X\n",
    "- 가중치: W\n",
    "- 편향치: b\n",
    "- 목표값: y"
   ]
  },
  {
   "metadata": {
    "ExecuteTime": {
     "end_time": "2025-02-01T05:17:15.085062Z",
     "start_time": "2025-02-01T05:17:15.082620Z"
    }
   },
   "cell_type": "code",
   "source": [
    "import numpy as np\n",
    "np.random.seed(42)\n",
    "\n",
    "X = np.array([0.5, 0.5, 0.5])  # 입력값 = [0.5, 0.5, 0.5]\n",
    "W = np.random.rand(3)          # 가중치 3개 무작위 초기화\n",
    "b = np.random.rand(1)          # 편향치 1개 무작위 초기화\n",
    "y = np.array([-1])             # 목표값 = -1"
   ],
   "outputs": [],
   "execution_count": 56
  },
  {
   "metadata": {
    "ExecuteTime": {
     "end_time": "2025-02-01T05:17:15.385075Z",
     "start_time": "2025-02-01T05:17:15.382538Z"
    }
   },
   "cell_type": "code",
   "source": [
    "print(\"퍼셉트론 파라미터 초기값...\")\n",
    "print(\"W:\", W)\n",
    "print(\"b:\", b)"
   ],
   "outputs": [
    {
     "name": "stdout",
     "output_type": "stream",
     "text": [
      "퍼셉트론 파라미터 초기값...\n",
      "W: [0.37454012 0.95071431 0.73199394]\n",
      "b: [0.59865848]\n"
     ]
    }
   ],
   "execution_count": 57
  },
  {
   "metadata": {},
   "cell_type": "markdown",
   "source": [
    "## 예측 함수\n",
    "입력값을 가중치와 곱하고 편향치와 더하여 출력값 z를 계산하고,\n",
    "임계 함수에 통과시켜 예측값 y^을 도출하는 함수를 구현하자"
   ]
  },
  {
   "metadata": {
    "ExecuteTime": {
     "end_time": "2025-02-01T05:17:17.172731Z",
     "start_time": "2025-02-01T05:17:17.170052Z"
    }
   },
   "cell_type": "code",
   "source": [
    "# 예측 함수\n",
    "def predict(X, W, b):\n",
    "    z = np.dot(X, W) + b\n",
    "    return z\n",
    "\n",
    "# 임계 함수\n",
    "def threshold(z):\n",
    "    if z > 0:\n",
    "        return np.array([1])\n",
    "    else:\n",
    "        return np.array([-1])\n",
    "\n",
    "# 순전파 함수\n",
    "def forward(X, W, b):\n",
    "    z = predict(X, W, b)\n",
    "    y_hat = threshold(z)\n",
    "    return y_hat"
   ],
   "outputs": [],
   "execution_count": 58
  },
  {
   "metadata": {
    "ExecuteTime": {
     "end_time": "2025-02-01T05:17:18.644657Z",
     "start_time": "2025-02-01T05:17:18.642170Z"
    }
   },
   "cell_type": "code",
   "source": [
    "z = predict(X, W, b)\n",
    "y_hat = threshold(z)\n",
    "print(\"출력값 z =\", z)\n",
    "print(\"예측값 y^ =\", y_hat)\n",
    "print(\"목표값 y =\", y)"
   ],
   "outputs": [
    {
     "name": "stdout",
     "output_type": "stream",
     "text": [
      "출력값 z = [1.62728267]\n",
      "예측값 y^ = [1]\n",
      "목표값 y = [-1]\n"
     ]
    }
   ],
   "execution_count": 59
  },
  {
   "metadata": {},
   "cell_type": "markdown",
   "source": [
    "## 학습 구현\n",
    "모델의 가중치와 편향을 조절하여 예측 성능을 최적화하는 학습을 구현해보자"
   ]
  },
  {
   "metadata": {
    "ExecuteTime": {
     "end_time": "2025-02-01T05:17:50.276469Z",
     "start_time": "2025-02-01T05:17:50.272049Z"
    }
   },
   "cell_type": "code",
   "source": [
    "learning_rate = 0.1\n",
    "num_epochs = 10\n",
    "\n",
    "for epoch in range(num_epochs):\n",
    "    y_hat = forward(X, W, b)\n",
    "    error = y - y_hat\n",
    "    W = W + learning_rate * error * X\n",
    "    b = b + learning_rate * error\n",
    "    print(f\"[Epoch #{epoch + 1}] Error = {error}, W = {W}, b = {b}\")"
   ],
   "outputs": [
    {
     "name": "stdout",
     "output_type": "stream",
     "text": [
      "[Epoch #1] Error = [-2], W = [0.27454012 0.85071431 0.63199394], b = [0.39865848]\n",
      "[Epoch #2] Error = [-2], W = [0.17454012 0.75071431 0.53199394], b = [0.19865848]\n",
      "[Epoch #3] Error = [-2], W = [0.07454012 0.65071431 0.43199394], b = [-0.00134152]\n",
      "[Epoch #4] Error = [-2], W = [-0.02545988  0.55071431  0.33199394], b = [-0.20134152]\n",
      "[Epoch #5] Error = [-2], W = [-0.12545988  0.45071431  0.23199394], b = [-0.40134152]\n",
      "[Epoch #6] Error = [0], W = [-0.12545988  0.45071431  0.23199394], b = [-0.40134152]\n",
      "[Epoch #7] Error = [0], W = [-0.12545988  0.45071431  0.23199394], b = [-0.40134152]\n",
      "[Epoch #8] Error = [0], W = [-0.12545988  0.45071431  0.23199394], b = [-0.40134152]\n",
      "[Epoch #9] Error = [0], W = [-0.12545988  0.45071431  0.23199394], b = [-0.40134152]\n",
      "[Epoch #10] Error = [0], W = [-0.12545988  0.45071431  0.23199394], b = [-0.40134152]\n"
     ]
    }
   ],
   "execution_count": 60
  },
  {
   "metadata": {
    "ExecuteTime": {
     "end_time": "2025-02-01T05:20:22.431860Z",
     "start_time": "2025-02-01T05:20:22.428915Z"
    }
   },
   "cell_type": "code",
   "source": [
    "z = predict(X, W, b)\n",
    "y_hat = forward(X, W, b)\n",
    "print(\"Trained weights:\", W)\n",
    "print(\"Trained bias:\", b)\n",
    "print(\"Trained z:\", z)\n",
    "print(\"Predict y^:\", y_hat)"
   ],
   "outputs": [
    {
     "name": "stdout",
     "output_type": "stream",
     "text": [
      "Trained weights: [-0.12545988  0.45071431  0.23199394]\n",
      "Trained bias: [-0.40134152]\n",
      "Trained z: [-0.12271733]\n",
      "Predict y^: [-1]\n"
     ]
    }
   ],
   "execution_count": 61
  },
  {
   "metadata": {},
   "cell_type": "code",
   "outputs": [],
   "execution_count": null,
   "source": ""
  }
 ]
}
